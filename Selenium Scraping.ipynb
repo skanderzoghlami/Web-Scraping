{
 "cells": [
  {
   "cell_type": "code",
   "execution_count": 1,
   "id": "d42e1e0f",
   "metadata": {},
   "outputs": [
    {
     "name": "stdout",
     "output_type": "stream",
     "text": [
      "Collecting selenium\n",
      "  Downloading selenium-4.2.0-py3-none-any.whl (983 kB)\n",
      "Collecting trio~=0.17\n",
      "  Downloading trio-0.20.0-py3-none-any.whl (359 kB)\n",
      "Collecting trio-websocket~=0.9\n",
      "  Downloading trio_websocket-0.9.2-py3-none-any.whl (16 kB)\n",
      "Requirement already satisfied: urllib3[secure,socks]~=1.26 in c:\\users\\skander\\anaconda3\\lib\\site-packages (from selenium) (1.26.7)\n",
      "Collecting outcome\n",
      "  Downloading outcome-1.1.0-py2.py3-none-any.whl (9.7 kB)\n",
      "Requirement already satisfied: cffi>=1.14 in c:\\users\\skander\\anaconda3\\lib\\site-packages (from trio~=0.17->selenium) (1.14.6)\n",
      "Requirement already satisfied: async-generator>=1.9 in c:\\users\\skander\\anaconda3\\lib\\site-packages (from trio~=0.17->selenium) (1.10)\n",
      "Requirement already satisfied: sortedcontainers in c:\\users\\skander\\anaconda3\\lib\\site-packages (from trio~=0.17->selenium) (2.4.0)\n",
      "Requirement already satisfied: idna in c:\\users\\skander\\anaconda3\\lib\\site-packages (from trio~=0.17->selenium) (3.2)\n",
      "Requirement already satisfied: attrs>=19.2.0 in c:\\users\\skander\\anaconda3\\lib\\site-packages (from trio~=0.17->selenium) (21.2.0)\n",
      "Requirement already satisfied: sniffio in c:\\users\\skander\\anaconda3\\lib\\site-packages (from trio~=0.17->selenium) (1.2.0)\n",
      "Requirement already satisfied: pycparser in c:\\users\\skander\\anaconda3\\lib\\site-packages (from cffi>=1.14->trio~=0.17->selenium) (2.20)\n",
      "Collecting wsproto>=0.14\n",
      "  Downloading wsproto-1.1.0-py3-none-any.whl (24 kB)\n",
      "Requirement already satisfied: pyOpenSSL>=0.14 in c:\\users\\skander\\anaconda3\\lib\\site-packages (from urllib3[secure,socks]~=1.26->selenium) (21.0.0)\n",
      "Requirement already satisfied: cryptography>=1.3.4 in c:\\users\\skander\\anaconda3\\lib\\site-packages (from urllib3[secure,socks]~=1.26->selenium) (3.4.8)\n",
      "Requirement already satisfied: certifi in c:\\users\\skander\\anaconda3\\lib\\site-packages (from urllib3[secure,socks]~=1.26->selenium) (2021.10.8)\n",
      "Requirement already satisfied: PySocks!=1.5.7,<2.0,>=1.5.6 in c:\\users\\skander\\anaconda3\\lib\\site-packages (from urllib3[secure,socks]~=1.26->selenium) (1.7.1)\n",
      "Requirement already satisfied: six>=1.5.2 in c:\\users\\skander\\anaconda3\\lib\\site-packages (from pyOpenSSL>=0.14->urllib3[secure,socks]~=1.26->selenium) (1.16.0)\n",
      "Collecting h11<1,>=0.9.0\n",
      "  Downloading h11-0.13.0-py3-none-any.whl (58 kB)\n",
      "Installing collected packages: outcome, h11, wsproto, trio, trio-websocket, selenium\n",
      "Successfully installed h11-0.13.0 outcome-1.1.0 selenium-4.2.0 trio-0.20.0 trio-websocket-0.9.2 wsproto-1.1.0\n"
     ]
    }
   ],
   "source": [
    "!pip install selenium\n"
   ]
  },
  {
   "cell_type": "code",
   "execution_count": 4,
   "id": "782530eb",
   "metadata": {},
   "outputs": [
    {
     "name": "stderr",
     "output_type": "stream",
     "text": [
      "ERROR: Could not find a version that satisfies the requirement time (from versions: none)\n",
      "ERROR: No matching distribution found for time\n"
     ]
    }
   ],
   "source": [
    "!pip install time\n"
   ]
  },
  {
   "cell_type": "code",
   "execution_count": 3,
   "id": "0ca1a2b0",
   "metadata": {},
   "outputs": [],
   "source": [
    "from selenium import webdriver\n",
    "from selenium.webdriver.common.keys import Keys\n",
    "import time, urllib.request\n",
    "import requests"
   ]
  },
  {
   "cell_type": "code",
   "execution_count": 5,
   "id": "fa178167",
   "metadata": {},
   "outputs": [
    {
     "name": "stderr",
     "output_type": "stream",
     "text": [
      "C:\\Users\\Skander\\AppData\\Local\\Temp/ipykernel_4812/1297967774.py:2: DeprecationWarning: executable_path has been deprecated, please pass in a Service object\n",
      "  driver = webdriver.Chrome(PATH)\n"
     ]
    }
   ],
   "source": [
    "PATH = r\"C:\\Users\\Skander\\Downloads\\chromedriver.exe\"\n",
    "driver = webdriver.Chrome(PATH)"
   ]
  },
  {
   "cell_type": "code",
   "execution_count": 15,
   "id": "8abd8bfb",
   "metadata": {},
   "outputs": [],
   "source": [
    "driver.get(\"https://www.instagram.com/elonrmuskk/\")"
   ]
  },
  {
   "cell_type": "code",
   "execution_count": 16,
   "id": "81eae2eb",
   "metadata": {},
   "outputs": [],
   "source": [
    "#scroll\n",
    "scrolldown=driver.execute_script(\"window.scrollTo(0, document.body.scrollHeight);var scrolldown=document.body.scrollHeight;return scrolldown;\")\n",
    "match=False\n",
    "while(match==False):\n",
    "    last_count = scrolldown\n",
    "    time.sleep(3)\n",
    "    scrolldown = driver.execute_script(\"window.scrollTo(0, document.body.scrollHeight);var scrolldown=document.body.scrollHeight;return scrolldown;\")\n",
    "    if last_count==scrolldown:\n",
    "        match=True"
   ]
  },
  {
   "cell_type": "code",
   "execution_count": 17,
   "id": "03e70209",
   "metadata": {},
   "outputs": [
    {
     "name": "stderr",
     "output_type": "stream",
     "text": [
      "C:\\Users\\Skander\\AppData\\Local\\Temp/ipykernel_4812/3143931742.py:2: DeprecationWarning: find_elements_by_tag_name is deprecated. Please use find_elements(by=By.TAG_NAME, value=name) instead\n",
      "  links= driver.find_elements_by_tag_name('a')\n"
     ]
    },
    {
     "name": "stdout",
     "output_type": "stream",
     "text": [
      "['https://www.instagram.com/p/BgTcOepFEk-/', 'https://www.instagram.com/p/Bcj_q-ZjHEl/', 'https://www.instagram.com/p/Bcek4CEj5bt/', 'https://www.instagram.com/p/BcejF37jf-E/', 'https://www.instagram.com/p/BcaUUXvjHqz/', 'https://www.instagram.com/p/BcUWaKtj3fL/', 'https://www.instagram.com/p/BcTMVhNDrNZ/', 'https://www.instagram.com/p/BcReE_NDCNi/', 'https://www.instagram.com/p/BcQkAz0D1Wg/', 'https://www.instagram.com/p/BcHWa-0DsmE/', 'https://www.instagram.com/p/BcDPOprjK5J/', 'https://www.instagram.com/p/BcDOjhjDtPy/', 'https://www.instagram.com/p/BcA-uvKDyK8/', 'https://www.instagram.com/p/Bb_dgoLjE49/', 'https://www.instagram.com/p/Bb_df4PDSjy/', 'https://www.instagram.com/p/Bb_dfBKDB2l/', 'https://www.instagram.com/p/Bb_deIYjRXH/', 'https://www.instagram.com/p/Bb_dLCQjyz6/', 'https://www.instagram.com/p/Bb_dEiYjhiZ/', 'https://www.instagram.com/p/Bb_dD8HjT2C/', 'https://www.instagram.com/p/Bb_c9S-DKlr/', 'https://www.instagram.com/p/Bb_c5myjPoM/', 'https://www.instagram.com/p/Bb_c4BfDAsM/', 'https://www.instagram.com/p/Bb_c0UPjyaB/', 'https://www.instagram.com/p/BOAVO74FIle/', 'https://www.instagram.com/p/BOAFxOuldFh/', 'https://www.instagram.com/p/BOAERGWF_zu/', 'https://www.instagram.com/p/BN_9YaUl3WY/']\n"
     ]
    }
   ],
   "source": [
    "posts=[]\n",
    "links= driver.find_elements_by_tag_name('a')\n",
    "for link in links : \n",
    "    post= link.get_attribute('href')\n",
    "    if '/p/' in post:\n",
    "        posts.append(post)\n",
    "print(posts)"
   ]
  },
  {
   "cell_type": "code",
   "execution_count": 18,
   "id": "711ba50c",
   "metadata": {},
   "outputs": [
    {
     "data": {
      "text/plain": [
       "28"
      ]
     },
     "execution_count": 18,
     "metadata": {},
     "output_type": "execute_result"
    }
   ],
   "source": [
    "len(posts)"
   ]
  },
  {
   "cell_type": "code",
   "execution_count": null,
   "id": "c3d09f2a",
   "metadata": {},
   "outputs": [],
   "source": []
  }
 ],
 "metadata": {
  "kernelspec": {
   "display_name": "Python 3 (ipykernel)",
   "language": "python",
   "name": "python3"
  },
  "language_info": {
   "codemirror_mode": {
    "name": "ipython",
    "version": 3
   },
   "file_extension": ".py",
   "mimetype": "text/x-python",
   "name": "python",
   "nbconvert_exporter": "python",
   "pygments_lexer": "ipython3",
   "version": "3.9.7"
  }
 },
 "nbformat": 4,
 "nbformat_minor": 5
}
